{
  "nbformat": 4,
  "nbformat_minor": 0,
  "metadata": {
    "colab": {
      "provenance": [],
      "authorship_tag": "ABX9TyO2N6URCEoO2wiW6lIat8L5",
      "include_colab_link": true
    },
    "kernelspec": {
      "name": "python3",
      "display_name": "Python 3"
    },
    "language_info": {
      "name": "python"
    }
  },
  "cells": [
    {
      "cell_type": "markdown",
      "metadata": {
        "id": "view-in-github",
        "colab_type": "text"
      },
      "source": [
        "<a href=\"https://colab.research.google.com/github/Wenypb/Opti_No_Lineal/blob/main/Metodo_Fibonacci.ipynb\" target=\"_parent\"><img src=\"https://colab.research.google.com/assets/colab-badge.svg\" alt=\"Open In Colab\"/></a>"
      ]
    },
    {
      "cell_type": "markdown",
      "source": [
        "# **Método de Busqueda de Fibonacci**"
      ],
      "metadata": {
        "id": "TxzeMvRdSes5"
      }
    },
    {
      "cell_type": "markdown",
      "source": [
        "**Met_Fibonacci**\n",
        "\n",
        "*Hace una aproximación al minimo de la funcion en el intervalo [a,b] con n iteraciones*"
      ],
      "metadata": {
        "id": "Irp6K7NzSljO"
      }
    },
    {
      "cell_type": "markdown",
      "source": [
        "*Valores de entrada*\n",
        "\n",
        "\n",
        "\n",
        "1.   Funcion de la cual se quiere encontrar el mínimo\n",
        "2.   a -> Límite inferior del intervalo\n",
        "3.   b -> Límite superior del intervalo\n",
        "4.   n -> Número de iteraciones requeridas\n",
        "\n"
      ],
      "metadata": {
        "id": "WrF66BTcTInM"
      }
    },
    {
      "cell_type": "code",
      "source": [
        "def Met_Fibonacci(f,a,b,N):\n",
        "  from tabulate import tabulate\n",
        "  #N -> Numero de elementos en la serie\n",
        "  N = n+2\n",
        "  #Serie -> Se guardara la serie a utilizar\n",
        "  serie=[1,1]\n",
        "  fibo=1\n",
        "  #Se genera la serie de fibonacci\n",
        "  for i in range (1,N-1):\n",
        "    fibo=int(serie[i]) + int(serie[i-1])\n",
        "    serie.append(fibo)\n",
        "  print(\"La serie con la que trabajaremos es la siguiente\",serie)\n",
        "  Nintervalos=int(serie[N-1])\n",
        "  h=(b-a)/Nintervalos\n",
        "  Tabla=[]\n",
        "  for x in range(0,n):\n",
        "    lamda= int(serie[N-3])\n",
        "    xlamda= a + h*lamda\n",
        "    flamda=f(xlamda)\n",
        "    mu=int(serie[N-2])\n",
        "    xmu=a+h*mu\n",
        "    fmu=f(xmu)\n",
        "    if fmu>flamda:\n",
        "      a = a\n",
        "      b = xmu\n",
        "    elif fmu<flamda:\n",
        "      a = xlamda\n",
        "      b=b\n",
        "    elif fmu==flamda:\n",
        "      a=xmu\n",
        "      b=xlamda\n",
        "    tabla1=[x+1,a,b,xlamda,xmu,flamda,fmu]\n",
        "    Tabla.append(tabla1)\n",
        "    N=N-1\n",
        "  print(tabulate(Tabla,headers=[\"Iteracion\",\"a\",\"b\",\"X(lambda)\",\"X(mu)\",\"f(lambda)\",\"f(mu)\"]))\n",
        "  print(\"El minimo es x =\",xmu,\"con f(x)=\",fmu)\n",
        "  return"
      ],
      "metadata": {
        "id": "5sobcS2wScVq"
      },
      "execution_count": 13,
      "outputs": []
    },
    {
      "cell_type": "markdown",
      "source": [
        "*Valores de salida*\n",
        "\n",
        "\n",
        "\n",
        "1.   Serie de Fibonacci con la que se estuvo trabajando\n",
        "2.   Tabla con los distintos valores que tomaron a, b, X(lambda), x(mu) en cada iteracion.\n",
        "3. Minimo de la función determinado hasta la iteracion n\n",
        "\n"
      ],
      "metadata": {
        "id": "AoHjIHruTlLQ"
      }
    },
    {
      "cell_type": "markdown",
      "source": [
        "*Ejemplo:*\n",
        "\n",
        "Con los datos del ejercicio pedido en el inciso 3 de Metodos de Busqueda Directa tenemos la siguiente solucion:"
      ],
      "metadata": {
        "id": "5zrx5tf6Ua0P"
      }
    },
    {
      "cell_type": "code",
      "execution_count": 14,
      "metadata": {
        "colab": {
          "base_uri": "https://localhost:8080/"
        },
        "id": "qL8eN3546WYZ",
        "outputId": "624900dc-81d4-44db-cb7c-ce867ad5f53d"
      },
      "outputs": [
        {
          "output_type": "stream",
          "name": "stdout",
          "text": [
            "La serie con la que trabajaremos es la siguiente [1, 1, 2, 3, 5, 8]\n",
            "  Iteracion      a      b    X(lambda)    X(mu)    f(lambda)      f(mu)\n",
            "-----------  -----  -----  -----------  -------  -----------  ---------\n",
            "          1  0.375  1            0.375    0.625    -0.243218  -0.275702\n",
            "          2  0.375  0.75         0.625    0.75     -0.275702  -0.259322\n",
            "          3  0.5    0.75         0.5      0.625    -0.271052  -0.275702\n",
            "          4  0.625  0.625        0.625    0.625    -0.275702  -0.275702\n",
            "El minimo es x = 0.625 con f(x)= -0.27570169098622765\n"
          ]
        }
      ],
      "source": [
        "import numpy as np\n",
        "import math\n",
        "#Funcion que evalua los valores de x\n",
        "def funcion(x):\n",
        "  return math.exp(-x) - math.cos(x)\n",
        "#n -> numero de iteracciones\n",
        "n=4\n",
        "#a -> limite inferior del intervalo\n",
        "a=0\n",
        "#b= -> limite superior del intervalo\n",
        "b=1\n",
        "Met_Fibonacci(funcion,a,b,n)"
      ]
    }
  ]
}