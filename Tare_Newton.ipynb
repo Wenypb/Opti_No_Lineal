{
  "nbformat": 4,
  "nbformat_minor": 0,
  "metadata": {
    "colab": {
      "provenance": [],
      "authorship_tag": "ABX9TyPYKiEmmDny9cR5BcyTb1Ul",
      "include_colab_link": true
    },
    "kernelspec": {
      "name": "python3",
      "display_name": "Python 3"
    },
    "language_info": {
      "name": "python"
    }
  },
  "cells": [
    {
      "cell_type": "markdown",
      "metadata": {
        "id": "view-in-github",
        "colab_type": "text"
      },
      "source": [
        "<a href=\"https://colab.research.google.com/github/Wenypb/Opti_No_Lineal/blob/main/Tare_Newton.ipynb\" target=\"_parent\"><img src=\"https://colab.research.google.com/assets/colab-badge.svg\" alt=\"Open In Colab\"/></a>"
      ]
    },
    {
      "cell_type": "code",
      "execution_count": 2,
      "metadata": {
        "colab": {
          "base_uri": "https://localhost:8080/"
        },
        "id": "crMFKWEKcXWG",
        "outputId": "b5cb5842-9aec-4be7-c0a1-05787c8dd476"
      },
      "outputs": [
        {
          "output_type": "stream",
          "name": "stdout",
          "text": [
            "[[13.]\n",
            " [ 7.]]\n",
            "[[0.26470588 0.02941176]\n",
            " [0.02941176 0.05882353]]\n",
            "[[3.64705882]\n",
            " [0.79411765]]\n",
            "[[-2.64705882]\n",
            " [ 0.20588235]]\n"
          ]
        }
      ],
      "source": [
        "import numpy as np\n",
        "a=2\n",
        "b=-2\n",
        "c=9\n",
        "d=11\n",
        "e=-9\n",
        "f=6\n",
        "#MATRIZ A\n",
        "A = np.array([[a, b/2], [b/2, c]])\n",
        "#VECTOR B\n",
        "B = np.array([[d],[e]])\n",
        "#C\n",
        "C=np.array([f])\n",
        "#Vector inicial\n",
        "x0=np.array([[1],[1]])\n",
        "#Gradiente x0\n",
        "g= (2*A)@x0+B\n",
        "print(g)\n",
        "#Hessiana x0\n",
        "H= (2*A)\n",
        "H_inv=np.linalg.inv(H)\n",
        "print(H_inv)\n",
        "print(H_inv@g)\n",
        "x1=x0-(H_inv@g)\n",
        "print(x1)"
      ]
    },
    {
      "cell_type": "code",
      "source": [
        "\n",
        "import numpy as np\n",
        "import math as ma\n",
        "\n",
        "def funcion(x):\n",
        "  return 10*(x[1]-x[0]**2)**2+(1-x[0])**2\n",
        "\n",
        "def gradiente(x):\n",
        "  g = np.empty((2,1))\n",
        "  g[0] = (-40*x[0]*x[1]+40*(x[0]**3)+2*x[0]-2)\n",
        "  g[1] = (20*x[1]-20*x[0]**2)\n",
        "  return g\n",
        "\n",
        "def Hessiana(x):\n",
        "  h=np.empty((2,2))\n",
        "  x=x.reshape((2))\n",
        "  h[0,0] = (-40*x[1]+120*(x[0]**2)+2)\n",
        "  h[0,1] = (-40*x[0])\n",
        "  h[1,0] = (-40*x[0])\n",
        "  h[1,1] = (20)\n",
        "  return h\n",
        "\n",
        "#Vector inicial\n",
        "xk=np.array([[-1.2],[1.0]])\n",
        "#Tolerancia\n",
        "Tol=0.001\n",
        "#Gradiente\n",
        "grad=np.array(gradiente(xk))\n",
        "#Norma del gradiente\n",
        "nor=np.linalg.norm(grad)\n",
        "#Lista de xks\n",
        "xks=[xk]\n",
        "#Conteo de iteracciones\n",
        "while nor>Tol:\n",
        "  xk_1=xk\n",
        "  #Inversa de la Hessiana\n",
        "  Hk_inv=np.linalg.inv(Hessiana(xk_1))\n",
        "  print(\"Hessiana\",Hessiana(xk_1))\n",
        "  print(\"inversa\",Hk_inv)\n",
        "  #Gradiente\n",
        "  Gk=gradiente(xk_1)\n",
        "  print(\"g\",Gk)\n",
        "  #Nuevo xk\n",
        "  xk=xk_1-(Hk_inv)@Gk\n",
        "  print(\"xk\",xk)\n",
        "  xks.append(xk)\n",
        "  #Norma del gradiente\n",
        "  nor=np.linalg.norm(gradiente(xk))\n",
        "  print(nor)\n",
        "print(\"Con un total de\",i,\"iteracciones se llego a este vector solución:\")\n",
        "print(\"x_\",i,\"=\",xk)\n"
      ],
      "metadata": {
        "colab": {
          "base_uri": "https://localhost:8080/"
        },
        "id": "6HydjwXqjrym",
        "outputId": "d37ad008-5738-44f1-d1e5-24e85f18fd78"
      },
      "execution_count": 14,
      "outputs": [
        {
          "output_type": "stream",
          "name": "stdout",
          "text": [
            "Hessiana [[134.8  48. ]\n",
            " [ 48.   20. ]]\n",
            "inversa [[ 0.05102041 -0.12244898]\n",
            " [-0.12244898  0.34387755]]\n",
            "g [[-25.52]\n",
            " [ -8.8 ]]\n",
            "xk [[-0.9755102 ]\n",
            " [ 0.90122449]]\n",
            "6.002704261912529\n",
            "Hessiana [[80.1454394  39.02040816]\n",
            " [39.02040816 20.        ]]\n",
            "inversa [[ 0.24901473 -0.48583281]\n",
            " [-0.48583281  0.99786974]]\n",
            "g [[-5.91747996]\n",
            " [-1.00791337]]\n",
            "xk [[ 0.00835207]\n",
            " [-0.96791521]]\n",
            "19.43072964433473\n",
            "Hessiana [[40.72497915 -0.33408261]\n",
            " [-0.33408261 20.        ]]\n",
            "inversa [[0.02455832 0.00041023]\n",
            " [0.00041023 0.05000685]]\n",
            "g [[ -1.65990893]\n",
            " [-19.3596993 ]]\n",
            "xk [[0.05705848]\n",
            " [0.00088336]]\n",
            "1.8810670816003727\n",
            "Hessiana [[ 2.35534619 -2.28233915]\n",
            " [-2.28233915 20.        ]]\n",
            "inversa [[0.47735144 0.05447389]\n",
            " [0.05447389 0.0562164 ]]\n",
            "g [[-1.88046862]\n",
            " [-0.04744629]]\n",
            "xk [[0.95728747]\n",
            " [0.10598706]]\n",
            "34.93410166690582\n",
            "Hessiana [[107.72843351 -38.29149881]\n",
            " [-38.29149881  20.        ]]\n",
            "inversa [[0.02905584 0.05562958]\n",
            " [0.05562958 0.156507  ]]\n",
            "g [[ 30.94647414]\n",
            " [-16.20824474]]\n",
            "xk [[0.95976957]\n",
            " [0.92115146]]\n",
            "0.08022444256467048\n",
            "Hessiana [[ 75.69285617 -38.39078268]\n",
            " [-38.39078268  20.        ]]\n",
            "inversa [[0.4999384  0.95965132]\n",
            " [0.95965132 1.89208827]]\n",
            "g [[-0.08022435]\n",
            " [-0.00012322]]\n",
            "xk [[0.99999504]\n",
            " [0.998372  ]]\n",
            "0.07235398540574377\n",
            "Hessiana [[ 82.06393053 -39.99980174]\n",
            " [-39.99980174  20.        ]]\n",
            "inversa [[0.48432634 0.96864787]\n",
            " [0.96864787 1.98728615]]\n",
            "g [[ 0.06471333]\n",
            " [-0.03236178]]\n",
            "xk [[0.99999984]\n",
            " [0.99999969]]\n",
            "3.0981973956316257e-07\n",
            "Con un total de 19 iteracciones se llego a este vector solución:\n",
            "x_ 19 = [[0.99999984]\n",
            " [0.99999969]]\n"
          ]
        }
      ]
    }
  ]
}