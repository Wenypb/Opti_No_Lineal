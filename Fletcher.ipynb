{
  "nbformat": 4,
  "nbformat_minor": 0,
  "metadata": {
    "colab": {
      "provenance": [],
      "authorship_tag": "ABX9TyPge6ZtOcgPifzmDe7qiCR3",
      "include_colab_link": true
    },
    "kernelspec": {
      "name": "python3",
      "display_name": "Python 3"
    },
    "language_info": {
      "name": "python"
    }
  },
  "cells": [
    {
      "cell_type": "markdown",
      "metadata": {
        "id": "view-in-github",
        "colab_type": "text"
      },
      "source": [
        "<a href=\"https://colab.research.google.com/github/Wenypb/Opti_No_Lineal/blob/main/Fletcher.ipynb\" target=\"_parent\"><img src=\"https://colab.research.google.com/assets/colab-badge.svg\" alt=\"Open In Colab\"/></a>"
      ]
    },
    {
      "cell_type": "code",
      "source": [
        "import numpy as np\n",
        "def funcion(x):\n",
        "  return 2*(x[0]**2)-2*(x[0]*x[1])+9*(x[1]**2)+11*(x[0])-9*(x[1])+6\n",
        "#-----------DATOS---------------------------------\n",
        "a=2\n",
        "b=-2\n",
        "c=9\n",
        "d=11\n",
        "e=-9\n",
        "f=6\n",
        "#MATRIZ Q\n",
        "Q = np.array([[2*a, b], [b, 2*c]])\n",
        "#VECTOR B\n",
        "B = np.array([[-d],[-e]])\n",
        "#C\n",
        "C=np.array([f])\n",
        "#x0\n",
        "x0=np.array([[10],[10]])\n",
        "#---------------ITERACION 1 --------------\n",
        "g0=Q@x0 - B\n",
        "s0=-g0\n",
        "a0=(-g0.T@s0)/(s0.T@Q@s0)\n",
        "x1=x0+a0*s0\n",
        "print(\"Iteracion 1, solucion\",x1.T)\n",
        "#---------------ITERACION 2 --------------\n",
        "g1=Q@x1 - B\n",
        "nor1=np.linalg.norm(g1)\n",
        "nor0=np.linalg.norm(g0)\n",
        "s1=-g1+(nor1/nor0)*s0\n",
        "a1=(-g1.T@s1)/(s1.T@Q@s1)\n",
        "x2=x1+a1*s1\n",
        "print(\"Iteracion 2, solucion\",x2.T)\n",
        "#---------------ITERACION 3 --------------\n",
        "g2=Q@x2 - B\n",
        "nor2=np.linalg.norm(g2)\n",
        "nor1=np.linalg.norm(g1)\n",
        "s2=-g2+(nor2/nor1)*s1\n",
        "a2=(-g2.T@s2)/(s2.T@Q@s2)\n",
        "x3=x2+a2*s2\n",
        "print(\"Iteracion 3, solucion\",x3.T)\n",
        "#---------------ITERACION 4 --------------\n",
        "g3=Q@x3 - B\n",
        "nor3=np.linalg.norm(g3)\n",
        "nor2=np.linalg.norm(g2)\n",
        "s3=-g3+(nor3/nor2)*s2\n",
        "a3=(-g3.T@s3)/(s3.T@Q@s3)\n",
        "x4=x3+a3*s3\n",
        "print(\"Iteracion 4, solucion\",x4.T)"
      ],
      "metadata": {
        "colab": {
          "base_uri": "https://localhost:8080/"
        },
        "id": "VN-Jd6wO-HZx",
        "outputId": "e2472ac7-f490-4663-f643-1f495e79374c"
      },
      "execution_count": 3,
      "outputs": [
        {
          "output_type": "stream",
          "name": "stdout",
          "text": [
            "[[ 4 -2]\n",
            " [-2 18]]\n",
            "[[-11]\n",
            " [  9]]\n",
            "Iteracion 1, solucion [[8.13767072 0.92865414]]\n",
            "Iteracion 2, solucion [[ 4.21401266 -1.65837315]]\n",
            "Iteracion 3, solucion [[-3.6697576  -1.40153854]]\n",
            "Iteracion 4, solucion [[-4.84803553 -0.66909769]]\n"
          ]
        }
      ]
    }
  ]
}