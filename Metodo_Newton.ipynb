{
  "nbformat": 4,
  "nbformat_minor": 0,
  "metadata": {
    "colab": {
      "provenance": [],
      "authorship_tag": "ABX9TyO1dyVJrNfrArzLVjASyGCP",
      "include_colab_link": true
    },
    "kernelspec": {
      "name": "python3",
      "display_name": "Python 3"
    },
    "language_info": {
      "name": "python"
    }
  },
  "cells": [
    {
      "cell_type": "markdown",
      "metadata": {
        "id": "view-in-github",
        "colab_type": "text"
      },
      "source": [
        "<a href=\"https://colab.research.google.com/github/Wenypb/Opti_No_Lineal/blob/main/Metodo_Newton.ipynb\" target=\"_parent\"><img src=\"https://colab.research.google.com/assets/colab-badge.svg\" alt=\"Open In Colab\"/></a>"
      ]
    },
    {
      "cell_type": "markdown",
      "source": [
        "# ***Librerias***"
      ],
      "metadata": {
        "id": "NgpOWUcv2AZT"
      }
    },
    {
      "cell_type": "code",
      "source": [
        "import numpy as np\n",
        "import math as ma"
      ],
      "metadata": {
        "id": "Whrfc0gA1-6_"
      },
      "execution_count": 16,
      "outputs": []
    },
    {
      "cell_type": "markdown",
      "source": [
        "# ***Función objetivo***"
      ],
      "metadata": {
        "id": "U2hV9B-52L2n"
      }
    },
    {
      "cell_type": "code",
      "source": [
        "def funcion(x):\n",
        "  return -ma.log(1-x[0]-x[1])-ma.log(x[0])-ma.log(x[1])"
      ],
      "metadata": {
        "id": "YBEev_UI2SYs"
      },
      "execution_count": 17,
      "outputs": []
    },
    {
      "cell_type": "markdown",
      "source": [
        "# ***Gradiente de la función objetivo***"
      ],
      "metadata": {
        "id": "KnfNtxYS2Yv9"
      }
    },
    {
      "cell_type": "code",
      "source": [
        "def gradiente(x):\n",
        "  g = np.empty((2,1))\n",
        "  g[0] = (1/(1-x[0]-x[1]))-(1/x[0])\n",
        "  g[1] = (1/(1-x[0]-x[1]))-(1/x[1])\n",
        "  return g"
      ],
      "metadata": {
        "id": "nsTkZNg12da8"
      },
      "execution_count": 18,
      "outputs": []
    },
    {
      "cell_type": "markdown",
      "source": [
        "# ***Hessiana de la función objetivo***"
      ],
      "metadata": {
        "id": "ErinGU2w2i6l"
      }
    },
    {
      "cell_type": "code",
      "source": [
        "def Hessiana(x):\n",
        "  h=np.empty((2,2))\n",
        "  h[0,0] = (1/(1-x[0]-x[1])**2)+(1/x[0]**2)\n",
        "  h[0,1] = (1/(1-x[0]-x[1])**2)\n",
        "  h[1,0] = (1/(1-x[0]-x[1])**2)\n",
        "  h[1,1] = (1/(1-x[0]-x[1])**2)+(1/x[1]**2)\n",
        "  return h"
      ],
      "metadata": {
        "id": "cTXe47Qt2lgs"
      },
      "execution_count": 19,
      "outputs": []
    },
    {
      "cell_type": "markdown",
      "source": [
        "# ***Metodo de Newtón***"
      ],
      "metadata": {
        "id": "B__wN-w227IZ"
      }
    },
    {
      "cell_type": "code",
      "execution_count": 21,
      "metadata": {
        "id": "MtudOdGcjyq3",
        "colab": {
          "base_uri": "https://localhost:8080/"
        },
        "outputId": "ecfbc230-fe2b-42c5-cfa6-54bf1e385901"
      },
      "outputs": [
        {
          "output_type": "stream",
          "name": "stdout",
          "text": [
            "Con un total de 5 iteracciones se llego a este vector solución:\n",
            "[[0.33333333]\n",
            " [0.33333333]]\n"
          ]
        },
        {
          "output_type": "stream",
          "name": "stderr",
          "text": [
            "<ipython-input-19-5d73dbbe2ffd>:3: DeprecationWarning: Conversion of an array with ndim > 0 to a scalar is deprecated, and will error in future. Ensure you extract a single element from your array before performing this operation. (Deprecated NumPy 1.25.)\n",
            "  h[0,0] = (1/(1-x[0]-x[1])**2)+(1/x[0]**2)\n",
            "<ipython-input-19-5d73dbbe2ffd>:4: DeprecationWarning: Conversion of an array with ndim > 0 to a scalar is deprecated, and will error in future. Ensure you extract a single element from your array before performing this operation. (Deprecated NumPy 1.25.)\n",
            "  h[0,1] = (1/(1-x[0]-x[1])**2)\n",
            "<ipython-input-19-5d73dbbe2ffd>:5: DeprecationWarning: Conversion of an array with ndim > 0 to a scalar is deprecated, and will error in future. Ensure you extract a single element from your array before performing this operation. (Deprecated NumPy 1.25.)\n",
            "  h[1,0] = (1/(1-x[0]-x[1])**2)\n",
            "<ipython-input-19-5d73dbbe2ffd>:6: DeprecationWarning: Conversion of an array with ndim > 0 to a scalar is deprecated, and will error in future. Ensure you extract a single element from your array before performing this operation. (Deprecated NumPy 1.25.)\n",
            "  h[1,1] = (1/(1-x[0]-x[1])**2)+(1/x[1]**2)\n"
          ]
        }
      ],
      "source": [
        "#Vector inicial\n",
        "xk=np.array([[0.1],[0.1]])\n",
        "#Tolerancia\n",
        "Tol=0.0001\n",
        "#Gradiente\n",
        "grad=np.array(gradiente(xk))\n",
        "#Norma del gradiente\n",
        "nor=np.linalg.norm(grad)\n",
        "#Lista de xks\n",
        "xks=[xk]\n",
        "#Conteo de iteracciones\n",
        "i=0\n",
        "while nor > Tol:\n",
        "  xk_1=xk\n",
        "  #Inversa de la Hessiana\n",
        "  Hk_inv=np.linalg.inv(Hessiana(xk_1))\n",
        "  #Gradiente\n",
        "  Gk=gradiente(xk_1)\n",
        "  #Nuevo xk\n",
        "  xk=xk_1-(Hk_inv)@Gk\n",
        "  xks.append(xk)\n",
        "  i=i+1\n",
        "  #Gradiente y norma para la condicion del while\n",
        "  #Gradiente\n",
        "  grad=np.array(gradiente(xk))\n",
        "  #Norma del gradiente\n",
        "  nor=np.linalg.norm(grad)\n",
        "print(\"Con un total de\",i,\"iteracciones se llego a este vector solución:\")\n",
        "print(xk)"
      ]
    }
  ]
}